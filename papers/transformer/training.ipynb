{
 "cells": [
  {
   "cell_type": "markdown",
   "metadata": {},
   "source": [
    "# Training"
   ]
  },
  {
   "cell_type": "code",
   "execution_count": 1,
   "metadata": {},
   "outputs": [],
   "source": [
    "import torch\n",
    "import torch.nn as nn\n",
    "import torch.optim as optim\n",
    "import matplotlib.pyplot as plt\n",
    "\n",
    "from transformer import Transformer"
   ]
  },
  {
   "cell_type": "code",
   "execution_count": 2,
   "metadata": {},
   "outputs": [],
   "source": [
    "# constants\n",
    "\n",
    "src_vocab_size = 5000\n",
    "tgt_vocab_size = 5000\n",
    "d_embedding = 512\n",
    "n_head = 8\n",
    "n_layer = 6\n",
    "d_ff = 2048\n",
    "max_seq_length = 100\n",
    "dropout = 0.1\n",
    "n_epochs = 50"
   ]
  },
  {
   "cell_type": "code",
   "execution_count": 3,
   "metadata": {},
   "outputs": [],
   "source": [
    "# Generate random sample data\n",
    "src_data = torch.randint(1, src_vocab_size, (64, max_seq_length))\n",
    "tgt_data = torch.randint(1, tgt_vocab_size, (64, max_seq_length))"
   ]
  },
  {
   "cell_type": "code",
   "execution_count": 4,
   "metadata": {},
   "outputs": [],
   "source": [
    "transformer = Transformer(src_vocab_size, tgt_vocab_size, d_embedding, n_head, d_ff, n_layer, max_seq_length, dropout)\n",
    "\n",
    "criterion = nn.CrossEntropyLoss(ignore_index=0)\n",
    "optimizer = optim.Adam(transformer.parameters(), lr=0.0001, betas=(0.9, 0.98), eps=1e-9)"
   ]
  },
  {
   "cell_type": "code",
   "execution_count": 5,
   "metadata": {},
   "outputs": [
    {
     "name": "stdout",
     "output_type": "stream",
     "text": [
      "Epoch [1/50], Loss: 8.6858\n",
      "Epoch [2/50], Loss: 8.5294\n",
      "Epoch [3/50], Loss: 8.4556\n",
      "Epoch [4/50], Loss: 8.3839\n",
      "Epoch [5/50], Loss: 8.3086\n",
      "Epoch [6/50], Loss: 8.1993\n",
      "Epoch [7/50], Loss: 8.0695\n",
      "Epoch [8/50], Loss: 7.9515\n",
      "Epoch [9/50], Loss: 7.8406\n",
      "Epoch [10/50], Loss: 7.7369\n",
      "Epoch [11/50], Loss: 7.6691\n",
      "Epoch [12/50], Loss: 7.6245\n",
      "Epoch [13/50], Loss: 7.5573\n",
      "Epoch [14/50], Loss: 7.4792\n",
      "Epoch [15/50], Loss: 7.4106\n",
      "Epoch [16/50], Loss: 7.3432\n",
      "Epoch [17/50], Loss: 7.2588\n",
      "Epoch [18/50], Loss: 7.1737\n",
      "Epoch [19/50], Loss: 7.1132\n",
      "Epoch [20/50], Loss: 7.0672\n",
      "Epoch [21/50], Loss: 7.0138\n",
      "Epoch [22/50], Loss: 6.9339\n",
      "Epoch [23/50], Loss: 6.8396\n",
      "Epoch [24/50], Loss: 6.7762\n",
      "Epoch [25/50], Loss: 6.7366\n",
      "Epoch [26/50], Loss: 6.7046\n",
      "Epoch [27/50], Loss: 6.6388\n",
      "Epoch [28/50], Loss: 6.5546\n",
      "Epoch [29/50], Loss: 6.4782\n",
      "Epoch [30/50], Loss: 6.4458\n",
      "Epoch [31/50], Loss: 6.4358\n",
      "Epoch [32/50], Loss: 6.4445\n",
      "Epoch [33/50], Loss: 6.4273\n",
      "Epoch [34/50], Loss: 6.3969\n",
      "Epoch [35/50], Loss: 6.3513\n",
      "Epoch [36/50], Loss: 6.3298\n",
      "Epoch [37/50], Loss: 6.3314\n",
      "Epoch [38/50], Loss: 6.3535\n",
      "Epoch [39/50], Loss: 6.3591\n",
      "Epoch [40/50], Loss: 6.3354\n",
      "Epoch [41/50], Loss: 6.2891\n",
      "Epoch [42/50], Loss: 6.2379\n",
      "Epoch [43/50], Loss: 6.2014\n",
      "Epoch [44/50], Loss: 6.1841\n",
      "Epoch [45/50], Loss: 6.1858\n",
      "Epoch [46/50], Loss: 6.1916\n",
      "Epoch [47/50], Loss: 6.1979\n",
      "Epoch [48/50], Loss: 6.1964\n",
      "Epoch [49/50], Loss: 6.1853\n",
      "Epoch [50/50], Loss: 6.1769\n"
     ]
    }
   ],
   "source": [
    "transformer.train()\n",
    "\n",
    "training_loss = []\n",
    "for epoch in range(n_epochs):\n",
    "    epoch_loss = 0\n",
    "    output = transformer(src_data, tgt_data)\n",
    "    loss = criterion(output.view(-1, tgt_vocab_size), tgt_data.view(-1))\n",
    "    training_loss.append(loss.item())\n",
    "    loss.backward()\n",
    "    optimizer.step()\n",
    "    print(f'Epoch [{epoch+1}/{n_epochs}], Loss: {loss.item():.4f}')"
   ]
  },
  {
   "cell_type": "code",
   "execution_count": 6,
   "metadata": {},
   "outputs": [
    {
     "data": {
      "text/plain": [
       "[<matplotlib.lines.Line2D at 0x1454aea50>]"
      ]
     },
     "execution_count": 6,
     "metadata": {},
     "output_type": "execute_result"
    },
    {
     "data": {
      "image/png": "[encoded data removed]",
      "text/plain": [
       "<Figure size 640x480 with 1 Axes>"
      ]
     },
     "metadata": {},
     "output_type": "display_data"
    }
   ],
   "source": [
    "plt.plot(training_loss)"
   ]
  }
 ],
 "metadata": {
  "kernelspec": {
   "display_name": "papers-NkNGP2Cj-py3.12",
   "language": "python",
   "name": "python3"
  },
  "language_info": {
   "codemirror_mode": {
    "name": "ipython",
    "version": 3
   },
   "file_extension": ".py",
   "mimetype": "text/x-python",
   "name": "python",
   "nbconvert_exporter": "python",
   "pygments_lexer": "ipython3",
   "version": "3.12.2"
  }
 },
 "nbformat": 4,
 "nbformat_minor": 2
}
